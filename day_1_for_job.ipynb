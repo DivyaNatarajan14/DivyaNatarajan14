{
  "nbformat": 4,
  "nbformat_minor": 0,
  "metadata": {
    "colab": {
      "provenance": [],
      "authorship_tag": "ABX9TyOk0MrP3ZltoW9DgDSlglvg",
      "include_colab_link": true
    },
    "kernelspec": {
      "name": "python3",
      "display_name": "Python 3"
    },
    "language_info": {
      "name": "python"
    }
  },
  "cells": [
    {
      "cell_type": "markdown",
      "metadata": {
        "id": "view-in-github",
        "colab_type": "text"
      },
      "source": [
        "<a href=\"https://colab.research.google.com/github/DivyaNatarajan14/DivyaNatarajan14/blob/main/day_1_for_job.ipynb\" target=\"_parent\"><img src=\"https://colab.research.google.com/assets/colab-badge.svg\" alt=\"Open In Colab\"/></a>"
      ]
    },
    {
      "cell_type": "code",
      "execution_count": null,
      "metadata": {
        "colab": {
          "base_uri": "https://localhost:8080/"
        },
        "id": "VCffCv3UEN24",
        "outputId": "fbada4c2-1c5a-447a-e265-4fdf25d35cd1"
      },
      "outputs": [
        {
          "output_type": "stream",
          "name": "stdout",
          "text": [
            "banana\n",
            "apple\n",
            "pomogrante\n",
            "guvava\n"
          ]
        }
      ],
      "source": [
        "fruits=['banana','apple','pomogrante','guvava']\n",
        "for fruit in fruits:\n",
        "  print(fruit)\n"
      ]
    },
    {
      "cell_type": "code",
      "source": [
        "for index, fruit in enumerate(fruits):\n",
        "  print(index,fruit)"
      ],
      "metadata": {
        "colab": {
          "base_uri": "https://localhost:8080/"
        },
        "id": "B_ExryVyEo9Z",
        "outputId": "e374b9a8-8f7e-4c52-f79d-abb1677a1362"
      },
      "execution_count": null,
      "outputs": [
        {
          "output_type": "stream",
          "name": "stdout",
          "text": [
            "0 banana\n",
            "1 apple\n",
            "2 pomogrante\n",
            "3 guvava\n"
          ]
        }
      ]
    },
    {
      "cell_type": "markdown",
      "source": [
        "Given an array of integers nums and an integer target, return indices of the two numbers such that they add up to target.\n",
        "\n",
        "You may assume that each input would have exactly one solution, and you may not use the same element twice.\n",
        "\n",
        "You can return the answer in any order.\n",
        "\n",
        "Example 1:\n",
        "\n",
        "Input: nums = [2,7,11,15], target = 9\n",
        "\n",
        "Output: [0,1]"
      ],
      "metadata": {
        "id": "AsxKvRYGFLXK"
      }
    },
    {
      "cell_type": "code",
      "source": [
        "def two_sum(nums,target):\n",
        "  seen={}\n",
        "\n",
        "  for index, num in enumerate(nums):\n",
        "    wanted=target-num\n",
        "\n",
        "    if wanted in seen:\n",
        "      return(seen[wanted],index)\n",
        "    seen[num]=index"
      ],
      "metadata": {
        "id": "DmTp2YCWHACS"
      },
      "execution_count": 5,
      "outputs": []
    },
    {
      "cell_type": "code",
      "source": [
        "nums=[2,7,11,15]\n",
        "target=17\n",
        "result=two_sum(nums,target)\n",
        "print(\"indices:\" ,result)"
      ],
      "metadata": {
        "colab": {
          "base_uri": "https://localhost:8080/"
        },
        "id": "AHi-JhdrHhcY",
        "outputId": "d7c5f183-de99-4114-b29a-02adb2dd5043"
      },
      "execution_count": 7,
      "outputs": [
        {
          "output_type": "stream",
          "name": "stdout",
          "text": [
            "indices: (0, 3)\n"
          ]
        }
      ]
    },
    {
      "cell_type": "markdown",
      "source": [
        "Reverse a string"
      ],
      "metadata": {
        "id": "ix_hyaCfIWd8"
      }
    },
    {
      "cell_type": "code",
      "source": [
        "def revese_string(s):\n",
        "  return s[::-1]\n",
        "\n",
        "input_string=str(input(\"Enter a String : \"))\n",
        "reverse_str=revese_string(input_string)\n",
        "print(\"Original string: \", input_string)\n",
        "print(\"Reversed String: \", reverse_str)"
      ],
      "metadata": {
        "id": "PgyyygClFPUi",
        "colab": {
          "base_uri": "https://localhost:8080/"
        },
        "outputId": "b0685667-6f55-4bb6-fc09-81355ad5fd08"
      },
      "execution_count": 8,
      "outputs": [
        {
          "output_type": "stream",
          "name": "stdout",
          "text": [
            "Enter a String : Thamizhkumaran\n",
            "Original string:  Thamizhkumaran\n",
            "Reversed String:  naramukhzimahT\n"
          ]
        }
      ]
    },
    {
      "cell_type": "markdown",
      "source": [
        "without indexing"
      ],
      "metadata": {
        "id": "9pbJw1zoJJe2"
      }
    },
    {
      "cell_type": "code",
      "source": [
        "def reverse_string(m):\n",
        "  reverse_str=\"\"\n",
        "\n",
        "  for char in m:\n",
        "    reverse_str=char + reverse_str\n",
        "  return reverse_str\n",
        "\n",
        "input_string=str(input(\"Enter a String : \"))\n",
        "reversed_str=reverse_string(input_string)\n",
        "print(\"Original string: \", input_string)\n",
        "print(\"Reversed String: \", reversed_str)\n",
        "\n"
      ],
      "metadata": {
        "colab": {
          "base_uri": "https://localhost:8080/"
        },
        "id": "Qt0cZsEcJLiq",
        "outputId": "181045bd-cc5c-42c6-cfd8-a0fa71d5a95d"
      },
      "execution_count": 10,
      "outputs": [
        {
          "output_type": "stream",
          "name": "stdout",
          "text": [
            "Enter a String : i am strong\n",
            "Original string:  i am strong\n",
            "Reversed String:  gnorts ma i\n"
          ]
        }
      ]
    }
  ]
}